{
 "cells": [
  {
   "cell_type": "code",
   "execution_count": 4,
   "metadata": {},
   "outputs": [],
   "source": [
    "from chromauto.ch_parser import CHFile\n",
    "from alcdh_integration import ALCDH_Integrate\n",
    "import numpy as np\n",
    "from scipy import signal\n",
    "from chromauto.utils import normalize_baseline, peak_detect"
   ]
  },
  {
   "cell_type": "code",
   "execution_count": null,
   "metadata": {},
   "outputs": [],
   "source": []
  },
  {
   "cell_type": "code",
   "execution_count": 6,
   "metadata": {},
   "outputs": [
    {
     "name": "stderr",
     "output_type": "stream",
     "text": [
      "findfont: Font family ['normal'] not found. Falling back to DejaVu Sans.\n"
     ]
    },
    {
     "data": {
      "text/plain": [
       "[['area', 'start time', 'end time'],\n",
       " ['22.777', '19.009', '21.084'],\n",
       " ['2.121', '21.260', '21.733']]"
      ]
     },
     "execution_count": 6,
     "metadata": {},
     "output_type": "execute_result"
    },
    {
     "data": {
      "text/plain": [
       "<Figure size 432x288 with 0 Axes>"
      ]
     },
     "metadata": {},
     "output_type": "display_data"
    }
   ],
   "source": [
    "blank_long_file = CHFile('./micro_reactor_files/alcdh_blank_run.ch')\n",
    "\n",
    "#first_points = np.array(blank_long_6225_fid.values)[:5] - np.array(da.values)[:5]\n",
    "#avg_fp = np.average(first_points)\n",
    "\n",
    "base_bx = np.array(blank_long_file.times())\n",
    "base_by = np.array(blank_long_file.values)\n",
    "\n",
    "example_data_file = CHFile('./micro_reactor_files//alcdh_data_run.ch')\n",
    "\n",
    "rx = np.array(example_data_file.times())\n",
    "ry = np.array(example_data_file.values)\n",
    "\n",
    "ALCDH_Integrate(rx, ry,base_bx,base_by, './micro_reactor_files//out.example')\n"
   ]
  },
  {
   "cell_type": "code",
   "execution_count": 7,
   "metadata": {},
   "outputs": [
    {
     "data": {
      "text/plain": [
       "[['area', 'start time', 'end time'],\n",
       " ['22.603', '19.009', '20.717'],\n",
       " ['2.248', '21.159', '21.960']]"
      ]
     },
     "execution_count": 7,
     "metadata": {},
     "output_type": "execute_result"
    },
    {
     "data": {
      "text/plain": [
       "<Figure size 432x288 with 0 Axes>"
      ]
     },
     "metadata": {},
     "output_type": "display_data"
    }
   ],
   "source": [
    "\n",
    "blank_long_file = CHFile('./micro_reactor_files/alcdh_blank_run.ch')\n",
    "\n",
    "#first_points = np.array(blank_long_6225_fid.values)[:5] - np.array(da.values)[:5]\n",
    "#avg_fp = np.average(first_points)\n",
    "base_bx = np.array(blank_long_file.times())\n",
    "base_by = np.array(blank_long_file.values)\n",
    "base_by = base_by\n",
    "example_data_file = CHFile('./micro_reactor_files/alcdh_data_run.ch')\n",
    "rx = np.array(example_data_file.times())\n",
    "ry = np.array(example_data_file.values)\n",
    "ry=ry\n",
    "\n",
    "alcdh_settings = {\n",
    "    'data_y_win_length': 111,\n",
    "    'blank_y_win_length': 333,\n",
    "    'savgol_polyorder': 7,\n",
    "    'peak_min_dist': 20,\n",
    "    'peak_max_peak': 3,\n",
    "    'peak_thres_range': (1, 5, .1),\n",
    "    'norm_thres_range': (20,30),\n",
    "    'norm_min_dist': 3000, \n",
    "    'norm_polyorder': 5,\n",
    "    'minimum_area': 0.1\n",
    "}\n",
    "\n",
    "blank_x, blank_y = normalize_baseline(base_bx, base_by, rx, ry, **alcdh_settings)\n",
    "\n",
    "ALCDH_Integrate(rx, ry,blank_x,blank_y, './micro_reactor_files//out5.example',**alcdh_settings)\n"
   ]
  },
  {
   "cell_type": "code",
   "execution_count": 3,
   "metadata": {},
   "outputs": [],
   "source": []
  },
  {
   "cell_type": "code",
   "execution_count": null,
   "metadata": {},
   "outputs": [],
   "source": []
  }
 ],
 "metadata": {
  "kernelspec": {
   "display_name": "Python 3",
   "language": "python",
   "name": "python3"
  },
  "language_info": {
   "codemirror_mode": {
    "name": "ipython",
    "version": 3
   },
   "file_extension": ".py",
   "mimetype": "text/x-python",
   "name": "python",
   "nbconvert_exporter": "python",
   "pygments_lexer": "ipython3",
   "version": "3.6.7"
  }
 },
 "nbformat": 4,
 "nbformat_minor": 2
}
